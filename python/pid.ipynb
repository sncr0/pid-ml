{
 "cells": [
  {
   "cell_type": "code",
   "execution_count": 73,
   "metadata": {},
   "outputs": [
    {
     "data": {
      "image/png": "[encoded data removed]",
      "text/plain": [
       "<Figure size 640x480 with 1 Axes>"
      ]
     },
     "metadata": {},
     "output_type": "display_data"
    }
   ],
   "source": [
    "import matplotlib.pyplot as plt\n",
    "\n",
    "# Constants\n",
    "acceleration = -9.81  # acceleration due to gravity in m/s^2\n",
    "mass = 1.0           # mass of the object in kg\n",
    "original_position = 0.0\n",
    "original_velocity = 0.0\n",
    "\n",
    "# Variables\n",
    "position = original_position\n",
    "velocity = original_velocity\n",
    "\n",
    "# Time step (adjust as needed)\n",
    "dt = 0.01\n",
    "\n",
    "# Lists to store position and time values for plotting\n",
    "positions = [original_position]\n",
    "times = [0]\n",
    "\n",
    "# Set up the plot\n",
    "fig, ax = plt.subplots()\n",
    "ax.set_title(\"Gravity Simulation\")\n",
    "ax.set_xlabel(\"Time (s)\")\n",
    "ax.set_ylabel(\"Position (m)\")\n",
    "line, = ax.plot(times, positions, label=\"Position\")\n",
    "\n",
    "# Simulation duration (adjust as needed)\n",
    "simulation_duration = 1.0\n",
    "\n",
    "# PID controller\n",
    "Kp = 1000\n",
    "Ki = 100\n",
    "Kd = 0.01\n",
    "target = 0\n",
    "\n",
    "error = target - position\n",
    "integral = 0\n",
    "derivative = 0\n",
    "\n",
    "# Simulation loop\n",
    "try:\n",
    "    for _ in range(int(simulation_duration / dt)):\n",
    "        \n",
    "        previous_error = error\n",
    "        error = target - position\n",
    "        integral = integral + error * dt\n",
    "        derivative = (error - previous_error) / dt\n",
    "        \n",
    "        signal = max(0, Kp * error + Ki * integral + Kd * derivative)\n",
    "        \n",
    "        # Verlet integration method\n",
    "        position_next = 2 * position - original_position + (acceleration+signal) * dt**2\n",
    "        velocity = (position_next - original_position) / (2 * dt)\n",
    "\n",
    "        # Update position and reset original_position for the next iteration\n",
    "        original_position, position = position, position_next\n",
    "\n",
    "        # Append current position and time values for plotting\n",
    "        positions.append(position)\n",
    "        times.append(times[-1] + dt)\n",
    "\n",
    "        # Print information for debugging\n",
    "        #print(\"Time: {:.1f} s, Position: {:.2f} m, Acceleration: {:.2f}\".format(times[-1], positions[-1], acceleration))\n",
    "        #print(\"Error: {:.2f}, Integral: {:.2f}, Derivative: {:.2f}\".format(error, integral, derivative))\n",
    "\n",
    "    # Save the results to a file\n",
    "    with open(\"gravity_simulation_results.txt\", \"w\") as file:\n",
    "        for t, pos in zip(times, positions):\n",
    "            file.write(\"{:.1f} {:.2f}\\n\".format(t, pos))\n",
    "\n",
    "    # Update the plot with all information\n",
    "    line.set_xdata(times)\n",
    "    line.set_ydata(positions)\n",
    "\n",
    "    # Adjust plot limits for better visualization\n",
    "    ax.set_xlim(min(times), max(times))\n",
    "    #ax.set_ylim(min(positions), max(positions))\n",
    "\n",
    "    ax.set_ylim(-1,1)\n",
    "\n",
    "    # Display the final plot\n",
    "    plt.show()\n",
    "\n",
    "except KeyboardInterrupt:\n",
    "    print(\"\\nSimulation terminated by user.\")\n"
   ]
  },
  {
   "cell_type": "markdown",
   "metadata": {},
   "source": []
  },
  {
   "cell_type": "code",
   "execution_count": 30,
   "metadata": {},
   "outputs": [],
   "source": [
    "from sklearn import linear_model\n",
    "import os\n",
    "import numpy as np\n",
    "import pandas as pd\n",
    "#modesdfqsdl = linear_model()\n",
    "\n",
    "\n"
   ]
  },
  {
   "cell_type": "code",
   "execution_count": 28,
   "metadata": {},
   "outputs": [],
   "source": [
    "# class data:\n",
    "#     def __init__(self, Kp, Ki, Kd, target, results):\n",
    "#         self.Kp = Kp\n",
    "#         self.Ki = Ki\n",
    "#         self.Kd = Kd\n",
    "#         self.target = target\n",
    "#         self.results = results\n",
    "\n"
   ]
  },
  {
   "cell_type": "code",
   "execution_count": 31,
   "metadata": {},
   "outputs": [],
   "source": [
    "data = []\n",
    "for file in os.listdir(\"./results/\"):\n",
    "    Kp, Ki, Kd, target = file[4:-4].split(\"_\")[::2]\n",
    "    results = pd.read_csv(\"./results/\"+file, sep=\" \", header=None)\n",
    "    data.append([Kp, Ki, Kd, target, results])\n"
   ]
  },
  {
   "cell_type": "code",
   "execution_count": 27,
   "metadata": {},
   "outputs": [
    {
     "data": {
      "text/plain": [
       "array([[ 0.00000000e+00, -5.00983500e-05],\n",
       "       [ 1.00000000e-04, -1.50295250e-04],\n",
       "       [ 2.00000000e-04, -3.00590850e-04],\n",
       "       ...,\n",
       "       [ 9.99800000e-01, -9.31318971e+01],\n",
       "       [ 9.99900000e-01, -9.31039475e+01],\n",
       "       [ 1.00000000e+00, -9.30759548e+01]])"
      ]
     },
     "execution_count": 27,
     "metadata": {},
     "output_type": "execute_result"
    }
   ],
   "source": [
    "results"
   ]
  },
  {
   "cell_type": "code",
   "execution_count": null,
   "metadata": {},
   "outputs": [],
   "source": [
    "model.fit(X_train, y_train)"
   ]
  }
 ],
 "metadata": {
  "kernelspec": {
   "display_name": "Python 3",
   "language": "python",
   "name": "python3"
  },
  "language_info": {
   "codemirror_mode": {
    "name": "ipython",
    "version": 3
   },
   "file_extension": ".py",
   "mimetype": "text/x-python",
   "name": "python",
   "nbconvert_exporter": "python",
   "pygments_lexer": "ipython3",
   "version": "3.10.12"
  }
 },
 "nbformat": 4,
 "nbformat_minor": 2
}
